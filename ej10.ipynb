{
 "cells": [
  {
   "cell_type": "markdown",
   "metadata": {},
   "source": [
    "# Ejercicio 10:\n",
    "### Se dan los siguientes datos: goles, goles evitados y asistencias correspondientes a un equipo de un club de hockey mixto."
   ]
  },
  {
   "cell_type": "code",
   "execution_count": 3,
   "metadata": {},
   "outputs": [],
   "source": [
    "names = \"\"\" Agustin, Yanina, Andrés, Ariadna, Bautista, CAROLINA,\n",
    "CESAR, David, Diego, Dolores, DYLAN, ELIANA, Emanuel, Fabián, Noelia,\n",
    "Francsica', FEDERICO, Fernanda, GONZALO, Nancy \"\"\"\n",
    "goals = [0, 10, 4, 0, 5, 14, 0, 0, 7, 2, 1, 1, 1, 5, 6, 1, 1, 2, 0, 11]\n",
    "goals_avoided = [0, 2, 0, 0, 5, 2, 0, 0, 1, 2, 0, 5, 5, 0, 1, 0, 2, 3, 0, 0]\n",
    "assists = [0, 5, 1, 0, 5, 2, 0, 0, 1, 2, 1, 5, 5, 0, 1, 0, 2, 3, 1, 0]"
   ]
  },
  {
   "cell_type": "markdown",
   "metadata": {},
   "source": [
    "## Subinciso 1:\n",
    "### Se pide generar una estructura con todas las estadísticas reunidas para cada jugador\n",
    "En este caso se unifica el formato para los nombres de jugadores, y se genera una tupla de tuplas que contienen las estadísticas para cada jugador respectivamente.\n",
    "Ésta tupla de tuplas se genera con la función zip(), la cual resume en un formato legible las distintas estadísticas con sus nombres.\n",
    "El reformateo para los nombres se hace detectando los caracteres de espacio o de salto de línea, para luego eliminarlos de la cadena con la función replace(). Luego de eso, se utiliza la función capitalize() para hacer mayúscula sólo la primera letra del nombre y la función split() para separar los nombres con las comas, devolviendo una lista de nombres."
   ]
  },
  {
   "cell_type": "code",
   "execution_count": 4,
   "metadata": {},
   "outputs": [
    {
     "name": "stdout",
     "output_type": "stream",
     "text": [
      "(('Agustin', 0, 0, 0), ('Yanina', 10, 2, 5), ('Andrés', 4, 0, 1), ('Ariadna', 0, 0, 0), ('Bautista', 5, 5, 5), ('Carolina', 14, 2, 2), ('Cesar', 0, 0, 0), ('David', 0, 0, 0), ('Diego', 7, 1, 1), ('Dolores', 2, 2, 2), ('Dylan', 1, 0, 1), ('Eliana', 1, 5, 5), ('Emanuel', 1, 5, 5), ('Fabián', 5, 0, 0), ('Noelia', 6, 1, 1), (\"Francsica'\", 1, 0, 0), ('Federico', 1, 2, 2), ('Fernanda', 2, 3, 3), ('Gonzalo', 0, 0, 1), ('Nancy', 11, 0, 0))\n"
     ]
    }
   ],
   "source": [
    "for name in names:\n",
    "  if name[0] == \" \" or name[0] == \"\\n\":\n",
    "    names = names.replace(name[0], '')\n",
    "\n",
    "names = names.capitalize().split(',')    \n",
    "names = [name.capitalize() for name in names]\n",
    "\n",
    "stats = tuple(zip(names, goals, goals_avoided, assists))\n",
    "\n",
    "print(stats)"
   ]
  },
  {
   "cell_type": "markdown",
   "metadata": {},
   "source": [
    "## Subinciso 2:\n",
    "### Se pide devolver el nombre y la cantidad de goles del jugador con más goles\n",
    "El jugador con más goles se obtiene aplicando una función max() sobre las tupla conteniendo las estadísticas generadas por el subinciso anterior, filtrando sólo la estadística de los goles por medio de una función lambda.\n",
    "Esta función lambda retornaría entonces el jugador con más goles, lo que se pasa a una tupla la cual contiene sólo el nombre y la cantidad de goles del máximo anotador."
   ]
  },
  {
   "cell_type": "code",
   "execution_count": 10,
   "metadata": {},
   "outputs": [
    {
     "name": "stdout",
     "output_type": "stream",
     "text": [
      "('carolina', 14)\n"
     ]
    }
   ],
   "source": [
    "highest_scorer = max(stats, key=lambda stat:stat[1])\n",
    "player = (highest_scorer[0], highest_scorer[1])\n",
    "\n",
    "print(player)"
   ]
  },
  {
   "cell_type": "markdown",
   "metadata": {},
   "source": [
    "## Subinciso 3:\n",
    "### Se pide conocer el nombre del jugador más influyente\n",
    "La influencia del jugador se obtiene calculando una suma de puntos por medio de sus estadísticas, los goles valiendo 1,5, los goles evitados 1,25, y las asistencias 1.\n",
    "Se define una función que multiplica las estadísticas para el cálculo de puntos para luego ser aplicada con una función map(), la cual aplica ésta función a todos los elementos de la tupla con estadísticas de cada jugador, devolviendo una tupla con los puntos reunidos y el nombre correspondiente del jugador que los reunió. Por último, se calcula el jugador que más puntos reúne con la función max(), filtrando por los puntos reunidos. Se devuelve sólo el nombre del jugador más influyente."
   ]
  },
  {
   "cell_type": "code",
   "execution_count": 11,
   "metadata": {},
   "outputs": [
    {
     "name": "stdout",
     "output_type": "stream",
     "text": [
      "carolina\n"
     ]
    }
   ],
   "source": [
    "def calculate_points(player):\n",
    "  return (player[0], player[1] * 1.5 + player[2] * 1.25 + player[3])\n",
    "\n",
    "points = tuple(map(calculate_points, stats))\n",
    "most_influential = max(points, key=lambda stat:stat[1])\n",
    "\n",
    "print(most_influential[0])"
   ]
  },
  {
   "cell_type": "markdown",
   "metadata": {},
   "source": [
    "## Subinciso 4:\n",
    "### Se pide conocer el promedio de goles por partido del equipo\n",
    "Esto se calcula haciendo un sum() de todos los goles, estadística que se da en un principio, lo que se implementa como una función lambda que divide ésta suma por 25 (los partidos jugados durante la temporada)."
   ]
  },
  {
   "cell_type": "code",
   "execution_count": 13,
   "metadata": {},
   "outputs": [
    {
     "name": "stdout",
     "output_type": "stream",
     "text": [
      "2.84\n"
     ]
    }
   ],
   "source": [
    "goals_average = lambda: sum(goals) / 25\n",
    "print(goals_average())"
   ]
  },
  {
   "cell_type": "markdown",
   "metadata": {},
   "source": [
    "## Subinciso 5:\n",
    "### Se pide conocer el promedio de goles por parte del máximo goleador de la temporada\n",
    "Esto se calcula haciendo un sum() de todos los goles realizados por el máximo anotador, el cual se retorna en el subinciso 2, implementado como una función lambda que divide la suma por 25 (partidos totales jugados en temporada)"
   ]
  },
  {
   "cell_type": "code",
   "execution_count": 14,
   "metadata": {},
   "outputs": [
    {
     "name": "stdout",
     "output_type": "stream",
     "text": [
      "0.56\n"
     ]
    }
   ],
   "source": [
    "average_topscorer = lambda: player[1] / 25\n",
    "print(average_topscorer())"
   ]
  }
 ],
 "metadata": {
  "kernelspec": {
   "display_name": "Python 3",
   "language": "python",
   "name": "python3"
  },
  "language_info": {
   "codemirror_mode": {
    "name": "ipython",
    "version": 3
   },
   "file_extension": ".py",
   "mimetype": "text/x-python",
   "name": "python",
   "nbconvert_exporter": "python",
   "pygments_lexer": "ipython3",
   "version": "3.11.7"
  }
 },
 "nbformat": 4,
 "nbformat_minor": 2
}
